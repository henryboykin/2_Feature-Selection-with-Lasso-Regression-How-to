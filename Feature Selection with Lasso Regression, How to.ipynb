{
 "cells": [
  {
   "cell_type": "markdown",
   "id": "7a80b38b",
   "metadata": {},
   "source": [
    "# About:"
   ]
  },
  {
   "cell_type": "markdown",
   "id": "dc7c2498",
   "metadata": {},
   "source": [
    "The purpose of the notebook is to deminstrate how Lasso Regression can be utilized for feature selection.  The data is related to music, the target variable will be the song's popularity and there are 10 features.  The first step is to import all relevant libriaries."
   ]
  },
  {
   "cell_type": "code",
   "execution_count": 1,
   "id": "992af3a6",
   "metadata": {},
   "outputs": [],
   "source": [
    "import pandas as pd\n",
    "import numpy as np\n",
    "import matplotlib.pyplot as plt\n",
    "import seaborn as sns\n",
    "\n",
    "from sklearn.model_selection import train_test_split\n",
    "from sklearn.linear_model import Lasso\n",
    "from sklearn.linear_model import LinearRegression\n",
    "\n",
    "from sklearn.model_selection import GridSearchCV"
   ]
  },
  {
   "cell_type": "code",
   "execution_count": 2,
   "id": "a0e00c21",
   "metadata": {},
   "outputs": [],
   "source": [
    "df1 = pd.read_csv('music.csv')"
   ]
  },
  {
   "cell_type": "code",
   "execution_count": 3,
   "id": "a094744b",
   "metadata": {},
   "outputs": [
    {
     "data": {
      "text/html": [
       "<div>\n",
       "<style scoped>\n",
       "    .dataframe tbody tr th:only-of-type {\n",
       "        vertical-align: middle;\n",
       "    }\n",
       "\n",
       "    .dataframe tbody tr th {\n",
       "        vertical-align: top;\n",
       "    }\n",
       "\n",
       "    .dataframe thead th {\n",
       "        text-align: right;\n",
       "    }\n",
       "</style>\n",
       "<table border=\"1\" class=\"dataframe\">\n",
       "  <thead>\n",
       "    <tr style=\"text-align: right;\">\n",
       "      <th></th>\n",
       "      <th>popularity</th>\n",
       "      <th>acousticness</th>\n",
       "      <th>danceability</th>\n",
       "      <th>duration_ms</th>\n",
       "      <th>energy</th>\n",
       "      <th>instrumentalness</th>\n",
       "      <th>liveness</th>\n",
       "      <th>loudness</th>\n",
       "      <th>speechiness</th>\n",
       "      <th>tempo</th>\n",
       "      <th>valence</th>\n",
       "    </tr>\n",
       "  </thead>\n",
       "  <tbody>\n",
       "    <tr>\n",
       "      <th>0</th>\n",
       "      <td>60</td>\n",
       "      <td>0.896000</td>\n",
       "      <td>0.726</td>\n",
       "      <td>214547</td>\n",
       "      <td>0.177</td>\n",
       "      <td>0.000002</td>\n",
       "      <td>0.1160</td>\n",
       "      <td>-14.824</td>\n",
       "      <td>0.0353</td>\n",
       "      <td>92.934</td>\n",
       "      <td>0.618</td>\n",
       "    </tr>\n",
       "    <tr>\n",
       "      <th>1</th>\n",
       "      <td>63</td>\n",
       "      <td>0.003840</td>\n",
       "      <td>0.635</td>\n",
       "      <td>190448</td>\n",
       "      <td>0.908</td>\n",
       "      <td>0.083400</td>\n",
       "      <td>0.2390</td>\n",
       "      <td>-4.795</td>\n",
       "      <td>0.0563</td>\n",
       "      <td>110.012</td>\n",
       "      <td>0.637</td>\n",
       "    </tr>\n",
       "    <tr>\n",
       "      <th>2</th>\n",
       "      <td>59</td>\n",
       "      <td>0.000075</td>\n",
       "      <td>0.352</td>\n",
       "      <td>456320</td>\n",
       "      <td>0.956</td>\n",
       "      <td>0.020300</td>\n",
       "      <td>0.1250</td>\n",
       "      <td>-3.634</td>\n",
       "      <td>0.1490</td>\n",
       "      <td>122.897</td>\n",
       "      <td>0.228</td>\n",
       "    </tr>\n",
       "    <tr>\n",
       "      <th>3</th>\n",
       "      <td>54</td>\n",
       "      <td>0.945000</td>\n",
       "      <td>0.488</td>\n",
       "      <td>352280</td>\n",
       "      <td>0.326</td>\n",
       "      <td>0.015700</td>\n",
       "      <td>0.1190</td>\n",
       "      <td>-12.020</td>\n",
       "      <td>0.0328</td>\n",
       "      <td>106.063</td>\n",
       "      <td>0.323</td>\n",
       "    </tr>\n",
       "    <tr>\n",
       "      <th>4</th>\n",
       "      <td>55</td>\n",
       "      <td>0.245000</td>\n",
       "      <td>0.667</td>\n",
       "      <td>273693</td>\n",
       "      <td>0.647</td>\n",
       "      <td>0.000297</td>\n",
       "      <td>0.0633</td>\n",
       "      <td>-7.787</td>\n",
       "      <td>0.0487</td>\n",
       "      <td>143.995</td>\n",
       "      <td>0.300</td>\n",
       "    </tr>\n",
       "  </tbody>\n",
       "</table>\n",
       "</div>"
      ],
      "text/plain": [
       "   popularity  acousticness  danceability  duration_ms  energy  \\\n",
       "0          60      0.896000         0.726       214547   0.177   \n",
       "1          63      0.003840         0.635       190448   0.908   \n",
       "2          59      0.000075         0.352       456320   0.956   \n",
       "3          54      0.945000         0.488       352280   0.326   \n",
       "4          55      0.245000         0.667       273693   0.647   \n",
       "\n",
       "   instrumentalness  liveness  loudness  speechiness    tempo  valence  \n",
       "0          0.000002    0.1160   -14.824       0.0353   92.934    0.618  \n",
       "1          0.083400    0.2390    -4.795       0.0563  110.012    0.637  \n",
       "2          0.020300    0.1250    -3.634       0.1490  122.897    0.228  \n",
       "3          0.015700    0.1190   -12.020       0.0328  106.063    0.323  \n",
       "4          0.000297    0.0633    -7.787       0.0487  143.995    0.300  "
      ]
     },
     "metadata": {},
     "output_type": "display_data"
    }
   ],
   "source": [
    "display(df1.head())"
   ]
  },
  {
   "cell_type": "code",
   "execution_count": 4,
   "id": "6b2e116b",
   "metadata": {},
   "outputs": [],
   "source": [
    "df1.rename(columns = {'popularity' : 'popularity_target'},  inplace=True)"
   ]
  },
  {
   "cell_type": "code",
   "execution_count": 5,
   "id": "f79e95f2",
   "metadata": {},
   "outputs": [
    {
     "name": "stdout",
     "output_type": "stream",
     "text": [
      "<class 'pandas.core.frame.DataFrame'>\n",
      "RangeIndex: 1000 entries, 0 to 999\n",
      "Data columns (total 11 columns):\n",
      " #   Column             Non-Null Count  Dtype  \n",
      "---  ------             --------------  -----  \n",
      " 0   popularity_target  1000 non-null   int64  \n",
      " 1   acousticness       1000 non-null   float64\n",
      " 2   danceability       1000 non-null   float64\n",
      " 3   duration_ms        1000 non-null   int64  \n",
      " 4   energy             1000 non-null   float64\n",
      " 5   instrumentalness   1000 non-null   float64\n",
      " 6   liveness           1000 non-null   float64\n",
      " 7   loudness           1000 non-null   float64\n",
      " 8   speechiness        1000 non-null   float64\n",
      " 9   tempo              1000 non-null   float64\n",
      " 10  valence            1000 non-null   float64\n",
      "dtypes: float64(9), int64(2)\n",
      "memory usage: 86.1 KB\n"
     ]
    }
   ],
   "source": [
    "df1.info()"
   ]
  },
  {
   "cell_type": "code",
   "execution_count": 6,
   "id": "a5ef1aa0",
   "metadata": {},
   "outputs": [],
   "source": [
    "X = df1.drop(columns = 'popularity_target')\n",
    "y = df1['popularity_target']\n",
    "\n",
    "X_train, X_test, y_train, y_test = train_test_split(X, y, test_size=0.30, random_state=243)"
   ]
  },
  {
   "cell_type": "markdown",
   "id": "71519a00",
   "metadata": {},
   "source": [
    "In part I below I instigate a lasso regression to be integrated with the GRidSearchCV library to ensure the best value for the hyperparameter alpha is selected.<br> In part II below, I Instigate a lasso regression model with the prescribed values for alpha determined by GridSearchCV in part I. X and y are fitted. The coefficients for each feature, sorted by most important -highest absolute value - are lastly printed:"
   ]
  },
  {
   "cell_type": "code",
   "execution_count": 7,
   "id": "3bb008ea",
   "metadata": {
    "scrolled": false
   },
   "outputs": [
    {
     "data": {
      "text/plain": [
       "'RMSE: '"
      ]
     },
     "metadata": {},
     "output_type": "display_data"
    },
    {
     "data": {
      "text/plain": [
       "13.851349024427424"
      ]
     },
     "metadata": {},
     "output_type": "display_data"
    },
    {
     "data": {
      "text/plain": [
       "'BEST VALUE FOR ALPHA: '"
      ]
     },
     "metadata": {},
     "output_type": "display_data"
    },
    {
     "data": {
      "text/plain": [
       "{'alpha': 0.09210526315789475}"
      ]
     },
     "metadata": {},
     "output_type": "display_data"
    },
    {
     "data": {
      "text/plain": [
       "'FEATURES SORTED BY IMPORTANCE, MOST IMPORTANT ON TOP: '"
      ]
     },
     "metadata": {},
     "output_type": "display_data"
    },
    {
     "data": {
      "text/plain": [
       "['instrumentalness',\n",
       " 'liveness',\n",
       " 'acousticness',\n",
       " 'danceability',\n",
       " 'loudness',\n",
       " 'tempo',\n",
       " 'duration_ms',\n",
       " 'energy',\n",
       " 'speechiness',\n",
       " 'valence']"
      ]
     },
     "metadata": {},
     "output_type": "display_data"
    }
   ],
   "source": [
    "#part I\n",
    "models = {'LassoReg' : Lasso()}\n",
    "hyperparameters = {'LassoReg' : {'alpha' : np.linspace(0.05, 0.15, 20)}}\n",
    "\n",
    "grid_lasso_regression = GridSearchCV(\n",
    "estimator = list(models.values())[0],\n",
    "param_grid = list(hyperparameters.values())[0],\n",
    "scoring='neg_mean_squared_error',\n",
    "n_jobs=4,\n",
    "cv = 3,\n",
    "refit=True,\n",
    "return_train_score=True)\n",
    "grid_lasso_regression.fit(X, y)\n",
    "\n",
    "#find the Root mean squared error below:\n",
    "rmse = np.sqrt(-grid_lasso_regression.best_score_)\n",
    "display('RMSE: ',  rmse)\n",
    "display('BEST VALUE FOR ALPHA: ', grid_lasso_regression.best_params_)\n",
    "\n",
    "#Part II\n",
    "LassoReg = Lasso(alpha = list(grid_lasso_regression.best_params_.values())[0])\n",
    "lasso_coef = LassoReg.fit(X, y)\n",
    "lasso_coef = LassoReg.fit(X, y).coef_\n",
    "feature_coefficient_dict = dict(zip(X.columns, abs(lasso_coef)))\n",
    "feature_coefficient_dict = {k: v for k, v in sorted(feature_coefficient_dict.items(),\n",
    "                                                    key=lambda item: item[1], reverse = True)}\n",
    "keyssortedbyimportance = list(feature_coefficient_dict.keys())\n",
    "display('Features Sorted by Importance, Most Important on Top: '.upper(), keyssortedbyimportance)"
   ]
  },
  {
   "cell_type": "markdown",
   "id": "a4ac9ac5",
   "metadata": {},
   "source": [
    "Below: Conduct Linear regression with sklearn, starting with the most important feature ('instrumentalness') for the first iteration, then adding the second most important feature for the second iteration, and so on until every feature is used. record the training RMSE and testing RMSE."
   ]
  },
  {
   "cell_type": "code",
   "execution_count": 8,
   "id": "9f9aca89",
   "metadata": {},
   "outputs": [],
   "source": [
    "train_scores = []\n",
    "test_scores = list()\n",
    "\n",
    "i = 1\n",
    "while i < len(keyssortedbyimportance) + 1:\n",
    "    X = df1.drop(columns='popularity_target')\n",
    "    X = df1[keyssortedbyimportance[:i]]\n",
    "    \n",
    "    y = df1['popularity_target']\n",
    "    X_train, X_test, y_train, y_test = train_test_split(X, y, test_size=0.30, random_state=243)\n",
    "    \n",
    "    LinReg = LinearRegression()  \n",
    "    \n",
    "    parameters = {'fit_intercept' : [True, False], 'positive' : [True, False]}\n",
    "    \n",
    "    grid_rf_regression =  GridSearchCV(\n",
    "                                        estimator = LinReg,\n",
    "                                        param_grid = parameters,\n",
    "                                        scoring='neg_mean_squared_error',\n",
    "                                        #scoring='r2',\n",
    "                                        n_jobs=4,\n",
    "                                        cv = 3,\n",
    "                                        refit=True,\n",
    "                                        return_train_score=True)\n",
    "    grid_rf_regression.fit(X_train, y_train)\n",
    "    \n",
    "    train_scores.append(np.sqrt(-grid_rf_regression.score(X_train, y_train)))\n",
    "    test_scores.append(np.sqrt(-grid_rf_regression.score(X_test, y_test)))\n",
    "\n",
    "    i += 1"
   ]
  },
  {
   "cell_type": "markdown",
   "id": "382b6b0d",
   "metadata": {},
   "source": [
    "Plot the results:"
   ]
  },
  {
   "cell_type": "code",
   "execution_count": 9,
   "id": "9db0153e",
   "metadata": {},
   "outputs": [],
   "source": [
    "sns.set_style('darkgrid')\n",
    "sns.set(rc={'figure.figsize':(15.7,7.27)})"
   ]
  },
  {
   "cell_type": "code",
   "execution_count": 10,
   "id": "c52d9124",
   "metadata": {},
   "outputs": [
    {
     "data": {
      "image/png": "[encoded data removed]",
      "text/plain": [
       "<Figure size 1130.4x523.44 with 1 Axes>"
      ]
     },
     "metadata": {},
     "output_type": "display_data"
    }
   ],
   "source": [
    "training = sns.lineplot(x=range(1, len(keyssortedbyimportance)+1), y=train_scores,\n",
    "                        linewidth = 5, color = (0, 0.13, 0.26), label = 'Training_Score', \n",
    "                        marker = '$Train$', ms=20, markeredgecolor = 'white', markeredgewidth=1)\n",
    "\n",
    "testing = sns.lineplot(x=range(1, len(keyssortedbyimportance)+1), y=test_scores,\n",
    "                       linewidth = 5, color = (0.41, 0.74, 0.15), label = 'Testing_Score',\n",
    "                       marker = '$Test$', ms=20, markeredgecolor = 'white', markeredgewidth=1)\n",
    "\n",
    "plt.title('Training VS Testing Score', fontsize=30)\n",
    "training.set_ylabel('Score', fontsize=20)\n",
    "training.set_xlabel('First_nth_Features', fontsize=20)\n",
    "plt.tick_params(axis='both', labelsize=12)\n",
    "plt.axhline(y = np.min(test_scores), color = 'Black', linestyle = '--')\n",
    "plt.text(0.75, 12.74, 'Min Test RMSE <br> at 7 features: 12.72')\n",
    "plt.show()"
   ]
  },
  {
   "cell_type": "markdown",
   "id": "75d387aa",
   "metadata": {},
   "source": [
    "From the chart above, the test score of RMSE is minimized by using the first seven most essential features: <br> ['instrumentalness',\n",
    " 'liveness','acousticness', 'danceability', 'loudness', 'tempo', 'duration_ms'] <br> once eight or more features are added, the linear regression model begins to show signs of overfitting - the testing score begins to rise, or degrade as the smaller the RMSE the better at predicting the model, while the training score continues to fall.<br>\n",
    " Note: The rise in testing RMSE is not that drastic in this example however, it is the best I could find within my timeframe. This same notebook should be able to do the same task on any other dataframe with only minor adjustments. Also, in previous versions, I preprocessed the data by scaling but decided not to move forward, as it made a minimal overall impact and was beyond the scope of what I intended for this project."
   ]
  }
 ],
 "metadata": {
  "kernelspec": {
   "display_name": "Python 3 (ipykernel)",
   "language": "python",
   "name": "python3"
  },
  "language_info": {
   "codemirror_mode": {
    "name": "ipython",
    "version": 3
   },
   "file_extension": ".py",
   "mimetype": "text/x-python",
   "name": "python",
   "nbconvert_exporter": "python",
   "pygments_lexer": "ipython3",
   "version": "3.9.7"
  }
 },
 "nbformat": 4,
 "nbformat_minor": 5
}
